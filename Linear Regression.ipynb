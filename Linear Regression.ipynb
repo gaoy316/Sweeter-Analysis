{
 "cells": [
  {
   "cell_type": "code",
   "execution_count": 82,
   "metadata": {
    "collapsed": false
   },
   "outputs": [],
   "source": [
    "import numpy as np\n",
    "import pandas as pd\n",
    "from sklearn import linear_model\n",
    "import numpy as np\n",
    "from numpy import genfromtxt\n",
    "from sklearn.model_selection import train_test_split"
   ]
  },
  {
   "cell_type": "code",
   "execution_count": 83,
   "metadata": {
    "collapsed": true
   },
   "outputs": [],
   "source": [
    "datapath = \"DATA_Clear.csv\"\n",
    "deliverData = genfromtxt(datapath,delimiter=\",\")"
   ]
  },
  {
   "cell_type": "code",
   "execution_count": 85,
   "metadata": {
    "collapsed": false
   },
   "outputs": [
    {
     "name": "stdout",
     "output_type": "stream",
     "text": [
      "data: [[             nan              nan              nan ...,              nan\n",
      "               nan              nan]\n",
      " [  0.00000000e+00   2.94303000e+02   2.10000000e+01 ...,   3.00000000e+00\n",
      "    7.00000000e+00   1.60000000e+02]\n",
      " [  1.00000000e+00   3.44312000e+02   2.30000000e+01 ...,   9.00000000e+00\n",
      "    1.10000000e+01   4.00000000e-01]\n",
      " ..., \n",
      " [  1.95000000e+02   4.57455000e+02   3.10000000e+01 ...,   4.00000000e+00\n",
      "    1.20000000e+01   3.50000000e+02]\n",
      " [  1.96000000e+02   3.47221000e+02   2.30000000e+01 ...,   5.00000000e+00\n",
      "    1.20000000e+01   0.00000000e+00]\n",
      " [  1.97000000e+02   1.67205000e+02   1.20000000e+01 ...,   1.00000000e+00\n",
      "    3.00000000e+00   4.50000000e+02]]\n",
      "<type 'numpy.ndarray'>\n"
     ]
    }
   ],
   "source": [
    "print \"data:\",deliverData"
   ]
  },
  {
   "cell_type": "code",
   "execution_count": 87,
   "metadata": {
    "collapsed": false,
    "scrolled": true
   },
   "outputs": [
    {
     "name": "stdout",
     "output_type": "stream",
     "text": [
      "X: [[ 294.303   21.      21.    ...,    9.       3.       7.   ]\n",
      " [ 344.312   23.      23.    ...,    8.       9.      11.   ]\n",
      " [ 218.307   12.      12.    ...,    2.       1.       4.   ]\n",
      " ..., \n",
      " [ 457.455   31.      31.    ...,    9.       4.      12.   ]\n",
      " [ 347.221   23.      23.    ...,    4.       5.      12.   ]\n",
      " [ 167.205   12.      12.    ...,    3.       1.       3.   ]]\n",
      "Y: [  1.60000000e+02   4.00000000e-01   4.00000000e+01   1.60000000e+02\n",
      "   3.00000000e+02   5.00000000e+01   4.00000000e-01   3.00000000e+01\n",
      "   3.00000000e+02   2.50000000e+02   3.00000000e+02   6.00000000e+02\n",
      "   3.00000000e+02   1.60000000e+02   1.60000000e+02   1.60000000e+02\n",
      "   1.60000000e+02   4.00000000e-01   6.00000000e+02   4.00000000e-01\n",
      "   4.00000000e-01   4.00000000e-01   3.00000000e+01   4.00000000e-01\n",
      "   4.00000000e-01   4.00000000e-01   4.00000000e-01   7.50000000e-01\n",
      "   7.50000000e-01   7.50000000e-01   7.50000000e-01   7.50000000e-01\n",
      "   7.50000000e-01   7.50000000e-01   1.75000000e-01   1.75000000e-01\n",
      "   7.50000000e-01   1.75000000e-01   7.50000000e-01   1.75000000e-01\n",
      "   1.75000000e-01   4.20000000e-01   7.50000000e-01   7.50000000e-01\n",
      "   1.75000000e-01   5.40000000e-01   7.50000000e-01   7.50000000e-01\n",
      "   1.00000000e+00   7.50000000e-01   7.50000000e-01   7.50000000e-01\n",
      "   7.50000000e-01   5.40000000e-01   7.50000000e-01   5.40000000e-01\n",
      "   7.50000000e-01   7.50000000e-01   7.50000000e-01   7.50000000e-01\n",
      "   7.50000000e-01   1.75000000e-01   1.75000000e-01   1.75000000e-01\n",
      "   1.75000000e-01   1.75000000e-01   1.75000000e-01   1.75000000e-01\n",
      "   1.75000000e-01   1.75000000e-01   1.75000000e-01   1.75000000e-01\n",
      "   1.75000000e-01   1.75000000e-01   1.75000000e-01   1.75000000e-01\n",
      "   7.50000000e-01   7.50000000e-01   1.75000000e-01   7.50000000e-01\n",
      "   6.00000000e-01   7.50000000e-01   5.40000000e-01   5.40000000e-01\n",
      "   7.50000000e-01   4.00000000e-01   4.20000000e-01   7.50000000e-01\n",
      "   7.50000000e-01   7.50000000e-01   7.50000000e-01   7.50000000e-01\n",
      "   7.50000000e-01   1.75000000e-01   0.00000000e+00   7.50000000e-01\n",
      "   3.20000000e-01   7.50000000e-01   7.50000000e-01   1.75000000e-01\n",
      "   1.75000000e-01   1.75000000e-01   7.50000000e-01   7.50000000e-01\n",
      "   7.50000000e-01   7.50000000e-01   7.50000000e-01   1.75000000e-01\n",
      "   7.50000000e-01   7.50000000e-01   1.75000000e-01   7.50000000e-01\n",
      "   7.50000000e-01   7.50000000e-01   7.50000000e-01   1.75000000e-01\n",
      "   1.75000000e-01   7.50000000e-01   5.40000000e-01   5.40000000e-01\n",
      "   5.40000000e-01   7.50000000e-01   1.70000000e+00   1.00000000e+00\n",
      "   7.50000000e-01   1.75000000e-01   6.90000000e-01   3.00000000e-01\n",
      "   7.50000000e-01   1.00000000e+00   1.75000000e-01   1.75000000e-01\n",
      "   1.75000000e-01   1.00000000e+00   7.50000000e-01   7.50000000e-01\n",
      "   7.50000000e-01   1.00000000e+00   7.50000000e-01   7.50000000e-01\n",
      "   7.50000000e-01   7.50000000e-01   7.50000000e-01   7.50000000e-01\n",
      "   7.50000000e-01   7.50000000e-01   7.50000000e-01   7.50000000e-01\n",
      "   7.50000000e-01   7.50000000e-01   7.50000000e-01   1.75000000e-01\n",
      "   1.75000000e-01   7.50000000e-01   1.75000000e-01   1.75000000e-01\n",
      "   4.20000000e-01   7.50000000e-01   5.40000000e-01   1.75000000e-01\n",
      "   5.40000000e-01   1.75000000e-01   1.75000000e-01   1.75000000e-01\n",
      "   7.50000000e-01   7.50000000e-01   1.75000000e-01   7.50000000e-01\n",
      "   5.40000000e-01   1.75000000e-01   7.50000000e-01   5.40000000e-01\n",
      "   1.75000000e-01   8.00000000e+03   8.00000000e+03   1.50000000e-01\n",
      "   1.80000000e+02   8.00000000e+03   1.50000000e-01   3.20000000e-01\n",
      "   1.70000000e+00   8.00000000e+03   4.00000000e+03   1.65000000e+02\n",
      "   2.00000000e+03   2.50000000e+02   3.00000000e+02   1.00000000e+03\n",
      "   5.00000000e+02   1.50000000e+03   8.00000000e+03   2.00000000e+03\n",
      "   2.50000000e+02   7.00000000e-01   9.20000000e-01   3.50000000e+02\n",
      "   0.00000000e+00   4.50000000e+02]\n",
      "(198, 8)\n",
      "(198,)\n"
     ]
    }
   ],
   "source": [
    "X= deliverData[1:,1:-1]\n",
    "Y = deliverData[1:,-1]\n",
    "print \"X:\",X\n",
    "print \"Y:\",Y\n",
    "print X.shape\n",
    "print Y.shape"
   ]
  },
  {
   "cell_type": "code",
   "execution_count": 88,
   "metadata": {
    "collapsed": false
   },
   "outputs": [],
   "source": [
    "X_train, X_test, Y_train, Y_test = train_test_split(X, Y, test_size=0.2, random_state=316)"
   ]
  },
  {
   "cell_type": "code",
   "execution_count": 89,
   "metadata": {
    "collapsed": false
   },
   "outputs": [
    {
     "data": {
      "text/plain": [
       "LinearRegression(copy_X=True, fit_intercept=True, n_jobs=1, normalize=False)"
      ]
     },
     "execution_count": 89,
     "metadata": {},
     "output_type": "execute_result"
    }
   ],
   "source": [
    "regr = linear_model.LinearRegression()\n",
    "regr.fit(X_train, Y_train)"
   ]
  },
  {
   "cell_type": "code",
   "execution_count": 76,
   "metadata": {
    "collapsed": false
   },
   "outputs": [
    {
     "name": "stdout",
     "output_type": "stream",
     "text": [
      "coefficients: [  1.29732815e+00   5.89495606e+01   5.89495606e+01  -2.28517263e+03\n",
      "   3.71811164e+02  -2.44765551e+02  -3.30765260e+01  -5.67481319e+02]\n",
      "intercept: -181.254002968\n"
     ]
    }
   ],
   "source": [
    "print \"coefficients:\",regr.coef_\n",
    "print \"intercept:\",regr.intercept_"
   ]
  },
  {
   "cell_type": "code",
   "execution_count": 77,
   "metadata": {
    "collapsed": false
   },
   "outputs": [
    {
     "name": "stdout",
     "output_type": "stream",
     "text": [
      "Mean squared error: 852155.77\n"
     ]
    }
   ],
   "source": [
    "print(\"Mean squared error: %.2f\"\n",
    "      % np.mean((regr.predict(X_test) - Y_test) ** 2))"
   ]
  },
  {
   "cell_type": "code",
   "execution_count": 78,
   "metadata": {
    "collapsed": false
   },
   "outputs": [
    {
     "name": "stdout",
     "output_type": "stream",
     "text": [
      "Variance score: 0.48\n"
     ]
    }
   ],
   "source": [
    "print('Variance score: %.2f' % regr.score(X_test, Y_test))"
   ]
  },
  {
   "cell_type": "code",
   "execution_count": 79,
   "metadata": {
    "collapsed": false
   },
   "outputs": [
    {
     "data": {
      "text/plain": [
       "198"
      ]
     },
     "execution_count": 79,
     "metadata": {},
     "output_type": "execute_result"
    }
   ],
   "source": [
    "len(X)"
   ]
  },
  {
   "cell_type": "code",
   "execution_count": 80,
   "metadata": {
    "collapsed": false
   },
   "outputs": [
    {
     "data": {
      "text/plain": [
       "198"
      ]
     },
     "execution_count": 80,
     "metadata": {},
     "output_type": "execute_result"
    }
   ],
   "source": [
    "len(Y)"
   ]
  },
  {
   "cell_type": "code",
   "execution_count": 81,
   "metadata": {
    "collapsed": false
   },
   "outputs": [
    {
     "data": {
      "text/plain": [
       "8"
      ]
     },
     "execution_count": 81,
     "metadata": {},
     "output_type": "execute_result"
    }
   ],
   "source": [
    "len(X[1])"
   ]
  },
  {
   "cell_type": "code",
   "execution_count": null,
   "metadata": {
    "collapsed": true
   },
   "outputs": [],
   "source": []
  }
 ],
 "metadata": {
  "kernelspec": {
   "display_name": "Python 2",
   "language": "python",
   "name": "python2"
  },
  "language_info": {
   "codemirror_mode": {
    "name": "ipython",
    "version": 2
   },
   "file_extension": ".py",
   "mimetype": "text/x-python",
   "name": "python",
   "nbconvert_exporter": "python",
   "pygments_lexer": "ipython2",
   "version": "2.7.12"
  }
 },
 "nbformat": 4,
 "nbformat_minor": 0
}
