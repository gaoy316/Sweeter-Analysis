{
 "cells": [
  {
   "cell_type": "code",
   "execution_count": 186,
   "metadata": {
    "collapsed": false
   },
   "outputs": [],
   "source": [
    "import numpy as np\n",
    "import pandas as pd\n",
    "import numpy as np\n",
    "from numpy import genfromtxt\n",
    "from sklearn.model_selection import train_test_split"
   ]
  },
  {
   "cell_type": "code",
   "execution_count": 187,
   "metadata": {
    "collapsed": false
   },
   "outputs": [],
   "source": [
    "from sklearn import preprocessing\n",
    "from lasagne import nonlinearities\n",
    "from lasagne.layers import DenseLayer\n",
    "from lasagne.layers import InputLayer\n",
    "from nolearn.lasagne import NeuralNet\n",
    "from sklearn.grid_search import GridSearchCV"
   ]
  },
  {
   "cell_type": "code",
   "execution_count": 188,
   "metadata": {
    "collapsed": false
   },
   "outputs": [],
   "source": [
    "# Load Data and Split Train&Test\n",
    "datapath = \"DATA_Clear.csv\"\n",
    "deliverData = genfromtxt(datapath,delimiter=\",\")"
   ]
  },
  {
   "cell_type": "code",
   "execution_count": 189,
   "metadata": {
    "collapsed": false
   },
   "outputs": [],
   "source": [
    "deliverData = preprocessing.scale(deliverData[1:,1:])"
   ]
  },
  {
   "cell_type": "code",
   "execution_count": 190,
   "metadata": {
    "collapsed": false
   },
   "outputs": [],
   "source": [
    "#Standardization Data\n",
    "X= deliverData[0:,:-1]\n",
    "Y = deliverData[0:,-1]"
   ]
  },
  {
   "cell_type": "code",
   "execution_count": 191,
   "metadata": {
    "collapsed": false
   },
   "outputs": [],
   "source": [
    "#Split test and train\n",
    "X_train, X_test, Y_train, Y_test = train_test_split(X, Y, test_size=0.2, random_state=316)"
   ]
  },
  {
   "cell_type": "code",
   "execution_count": 192,
   "metadata": {
    "collapsed": false
   },
   "outputs": [
    {
     "name": "stdout",
     "output_type": "stream",
     "text": [
      "# Neural Network with 211 learnable parameters\n",
      "\n",
      "## Layer information\n",
      "\n",
      "  #  name       size\n",
      "---  -------  ------\n",
      "  0  input         8\n",
      "  1  hidden0      10\n",
      "  2  hidden1      10\n",
      "  3  output        1\n",
      "\n",
      "  epoch    train loss    valid loss    train/val  dur\n",
      "-------  ------------  ------------  -----------  -----\n",
      "      1       \u001b[36m1.24995\u001b[0m       \u001b[32m0.15035\u001b[0m      8.31359  0.00s\n",
      "      2       \u001b[36m1.23796\u001b[0m       \u001b[32m0.12194\u001b[0m     10.15201  0.00s\n",
      "      3       \u001b[36m1.23180\u001b[0m       \u001b[32m0.10389\u001b[0m     11.85673  0.00s\n",
      "      4       \u001b[36m1.23160\u001b[0m       \u001b[32m0.09517\u001b[0m     12.94051  0.00s\n",
      "      5       1.23342       \u001b[32m0.09290\u001b[0m     13.27716  0.00s\n",
      "      6       1.23412       0.09495     12.99692  0.00s\n",
      "      7       1.23316       0.09996     12.33594  0.00s\n",
      "      8       \u001b[36m1.23158\u001b[0m       0.10647     11.56774  0.00s\n",
      "      9       \u001b[36m1.23043\u001b[0m       0.11274     10.91359  0.00s\n",
      "     10       \u001b[36m1.22997\u001b[0m       0.11730     10.48525  0.00s\n",
      "     11       \u001b[36m1.22988\u001b[0m       0.11942     10.29863  0.00s\n",
      "     12       \u001b[36m1.22977\u001b[0m       0.11924     10.31367  0.00s\n",
      "     13       \u001b[36m1.22947\u001b[0m       0.11749     10.46452  0.00s\n",
      "     14       \u001b[36m1.22904\u001b[0m       0.11510     10.67820  0.00s\n",
      "     15       \u001b[36m1.22861\u001b[0m       0.11283     10.88876  0.00s\n",
      "     16       \u001b[36m1.22823\u001b[0m       0.11117     11.04866  0.00s\n",
      "     17       \u001b[36m1.22789\u001b[0m       0.11027     11.13490  0.00s\n",
      "     18       \u001b[36m1.22755\u001b[0m       0.11011     11.14795  0.00s\n",
      "     19       \u001b[36m1.22719\u001b[0m       0.11051     11.10510  0.00s\n",
      "     20       \u001b[36m1.22679\u001b[0m       0.11121     11.03132  0.00s\n",
      "     21       \u001b[36m1.22637\u001b[0m       0.11199     10.95104  0.00s\n",
      "     22       \u001b[36m1.22595\u001b[0m       0.11265     10.88253  0.00s\n",
      "     23       \u001b[36m1.22551\u001b[0m       0.11310     10.83564  0.00s\n",
      "     24       \u001b[36m1.22507\u001b[0m       0.11330     10.81226  0.00s\n",
      "     25       \u001b[36m1.22460\u001b[0m       0.11330     10.80836  0.00s\n",
      "     26       \u001b[36m1.22412\u001b[0m       0.11317     10.81670  0.00s\n",
      "     27       \u001b[36m1.22361\u001b[0m       0.11299     10.82940  0.00s\n",
      "     28       \u001b[36m1.22309\u001b[0m       0.11283     10.83987  0.00s\n",
      "     29       \u001b[36m1.22255\u001b[0m       0.11274     10.84389  0.00s\n",
      "     30       \u001b[36m1.22199\u001b[0m       0.11273     10.83985  0.00s\n",
      "     31       \u001b[36m1.22141\u001b[0m       0.11280     10.82836  0.00s\n",
      "     32       \u001b[36m1.22080\u001b[0m       0.11292     10.81140  0.00s\n",
      "     33       \u001b[36m1.22018\u001b[0m       0.11307     10.79148  0.00s\n",
      "     34       \u001b[36m1.21953\u001b[0m       0.11322     10.77092  0.00s\n",
      "     35       \u001b[36m1.21885\u001b[0m       0.11337     10.75133  0.00s\n",
      "     36       \u001b[36m1.21815\u001b[0m       0.11349     10.73349  0.00s\n",
      "     37       \u001b[36m1.21742\u001b[0m       0.11359     10.71742  0.00s\n",
      "     38       \u001b[36m1.21667\u001b[0m       0.11368     10.70259  0.00s\n",
      "     39       \u001b[36m1.21588\u001b[0m       0.11376     10.68824  0.00s\n",
      "     40       \u001b[36m1.21506\u001b[0m       0.11384     10.67356  0.00s\n",
      "     41       \u001b[36m1.21421\u001b[0m       0.11393     10.65797  0.00s\n",
      "     42       \u001b[36m1.21333\u001b[0m       0.11402     10.64109  0.00s\n",
      "     43       \u001b[36m1.21241\u001b[0m       0.11413     10.62285  0.00s\n",
      "     44       \u001b[36m1.21145\u001b[0m       0.11425     10.60336  0.00s\n",
      "     45       \u001b[36m1.21045\u001b[0m       0.11438     10.58284  0.00s\n",
      "     46       \u001b[36m1.20941\u001b[0m       0.11451     10.56155  0.00s\n",
      "     47       \u001b[36m1.20832\u001b[0m       0.11464     10.53969  0.00s\n",
      "     48       \u001b[36m1.20719\u001b[0m       0.11478     10.51742  0.00s\n",
      "     49       \u001b[36m1.20600\u001b[0m       0.11491     10.49479  0.00s\n",
      "     50       \u001b[36m1.20477\u001b[0m       0.11505     10.47180  0.00s\n",
      "     51       \u001b[36m1.20347\u001b[0m       0.11518     10.44841  0.00s\n",
      "     52       \u001b[36m1.20211\u001b[0m       0.11532     10.42456  0.00s\n",
      "     53       \u001b[36m1.20069\u001b[0m       0.11545     10.40022  0.00s\n",
      "     54       \u001b[36m1.19920\u001b[0m       0.11558     10.37537  0.00s\n",
      "     55       \u001b[36m1.19764\u001b[0m       0.11571     10.35004  0.00s\n",
      "     56       \u001b[36m1.19599\u001b[0m       0.11584     10.32428  0.00s\n",
      "     57       \u001b[36m1.19426\u001b[0m       0.11597     10.29820  0.00s\n",
      "     58       \u001b[36m1.19244\u001b[0m       0.11609     10.27188  0.00s\n",
      "     59       \u001b[36m1.19052\u001b[0m       0.11620     10.24546  0.00s\n",
      "     60       \u001b[36m1.18849\u001b[0m       0.11630     10.21906  0.00s\n",
      "     61       \u001b[36m1.18635\u001b[0m       0.11639     10.19283  0.00s\n",
      "     62       \u001b[36m1.18408\u001b[0m       0.11646     10.16690  0.00s\n",
      "     63       \u001b[36m1.18168\u001b[0m       0.11652     10.14145  0.00s\n",
      "     64       \u001b[36m1.17913\u001b[0m       0.11655     10.11667  0.00s\n",
      "     65       \u001b[36m1.17642\u001b[0m       0.11656     10.09275  0.00s\n",
      "     66       \u001b[36m1.17353\u001b[0m       0.11654     10.06996  0.00s\n",
      "     67       \u001b[36m1.17046\u001b[0m       0.11648     10.04855  0.00s\n",
      "     68       \u001b[36m1.16719\u001b[0m       0.11638     10.02883  0.00s\n",
      "     69       \u001b[36m1.16370\u001b[0m       0.11624     10.01114  0.00s\n",
      "     70       \u001b[36m1.15998\u001b[0m       0.11605      9.99584  0.00s\n",
      "     71       \u001b[36m1.15600\u001b[0m       0.11579      9.98330  0.00s\n",
      "     72       \u001b[36m1.15175\u001b[0m       0.11548      9.97393  0.00s\n",
      "     73       \u001b[36m1.14721\u001b[0m       0.11509      9.96812  0.00s\n",
      "     74       \u001b[36m1.14235\u001b[0m       0.11462      9.96626  0.00s\n",
      "     75       \u001b[36m1.13717\u001b[0m       0.11407      9.96869  0.00s\n",
      "     76       \u001b[36m1.13164\u001b[0m       0.11344      9.97569  0.00s\n",
      "     77       \u001b[36m1.12574\u001b[0m       0.11272      9.98743  0.00s\n",
      "     78       \u001b[36m1.11945\u001b[0m       0.11190     10.00391  0.00s\n",
      "     79       \u001b[36m1.11277\u001b[0m       0.11100     10.02492  0.00s\n",
      "     80       \u001b[36m1.10569\u001b[0m       0.11002     10.04995  0.00s\n",
      "     81       \u001b[36m1.09819\u001b[0m       0.10897     10.07815  0.00s\n",
      "     82       \u001b[36m1.09027\u001b[0m       0.10786     10.10819  0.00s\n",
      "     83       \u001b[36m1.08193\u001b[0m       0.10672     10.13826  0.00s\n",
      "     84       \u001b[36m1.07318\u001b[0m       0.10557     10.16600  0.00s\n",
      "     85       \u001b[36m1.06402\u001b[0m       0.10443     10.18851  0.00s\n",
      "     86       \u001b[36m1.05447\u001b[0m       0.10336     10.20241  0.00s\n",
      "     87       \u001b[36m1.04453\u001b[0m       0.10237     10.20383  0.00s\n",
      "     88       \u001b[36m1.03417\u001b[0m       0.10151     10.18816  0.00s\n",
      "     89       \u001b[36m1.02338\u001b[0m       0.10084     10.14870  0.00s\n",
      "     90       \u001b[36m1.01218\u001b[0m       0.10048     10.07342  0.00s\n",
      "     91       \u001b[36m1.00080\u001b[0m       0.10063      9.94549  0.00s\n",
      "     92       \u001b[36m0.98975\u001b[0m       0.10141      9.75960  0.00s\n",
      "     93       \u001b[36m0.97930\u001b[0m       0.10278      9.52845  0.00s\n",
      "     94       \u001b[36m0.96946\u001b[0m       0.10460      9.26868  0.00s\n",
      "     95       \u001b[36m0.96021\u001b[0m       0.10676      8.99380  0.00s\n",
      "     96       \u001b[36m0.95158\u001b[0m       0.10921      8.71292  0.00s\n",
      "     97       \u001b[36m0.94356\u001b[0m       0.11191      8.43161  0.00s\n",
      "     98       \u001b[36m0.93616\u001b[0m       0.11481      8.15383  0.00s\n",
      "     99       \u001b[36m0.92938\u001b[0m       0.11789      7.88330  0.00s\n",
      "    100       \u001b[36m0.92321\u001b[0m       0.12109      7.62388  0.00s\n"
     ]
    },
    {
     "data": {
      "text/plain": [
       "NeuralNet(X_tensor_type=None,\n",
       "     batch_iterator_test=<nolearn.lasagne.base.BatchIterator object at 0x11494c410>,\n",
       "     batch_iterator_train=<nolearn.lasagne.base.BatchIterator object at 0x11494c310>,\n",
       "     custom_scores=None,\n",
       "     hidden0_nonlinearity=<function softmax at 0x1145909b0>,\n",
       "     hidden0_num_units=10,\n",
       "     hidden1_nonlinearity=<function softmax at 0x1145909b0>,\n",
       "     hidden1_num_units=10, input_shape=(None, 8),\n",
       "     layers=[('input', <class 'lasagne.layers.input.InputLayer'>), ('hidden0', <class 'lasagne.layers.dense.DenseLayer'>), ('hidden1', <class 'lasagne.layers.dense.DenseLayer'>), ('output', <class 'lasagne.layers.dense.DenseLayer'>)],\n",
       "     loss=None, max_epochs=100, more_params={},\n",
       "     objective=<function objective at 0x114950848>,\n",
       "     objective_loss_function=<function squared_error at 0x11482bb90>,\n",
       "     on_batch_finished=[],\n",
       "     on_epoch_finished=[<nolearn.lasagne.handlers.PrintLog instance at 0x1158b5638>],\n",
       "     on_training_finished=[],\n",
       "     on_training_started=[<nolearn.lasagne.handlers.PrintLayerInfo instance at 0x1158b54d0>],\n",
       "     output_nonlinearity=<function tanh at 0x114590a28>,\n",
       "     output_num_units=1, regression=True,\n",
       "     train_split=<nolearn.lasagne.base.TrainSplit object at 0x11494c450>,\n",
       "     update=<function nesterov_momentum at 0x11482cc08>,\n",
       "     update_learning_rate=0.1, use_label_encoder=False, verbose=1,\n",
       "     y_tensor_type=TensorType(float64, matrix))"
      ]
     },
     "execution_count": 192,
     "metadata": {},
     "output_type": "execute_result"
    }
   ],
   "source": [
    "# Create classification model\n",
    "NODES = 10\n",
    "net = NeuralNet(layers=[('input', InputLayer),\n",
    "                        ('hidden0', DenseLayer),\n",
    "                        ('hidden1', DenseLayer),\n",
    "                        ('output', DenseLayer)],\n",
    "                input_shape=(None, X_train.shape[1]),\n",
    "                hidden0_num_units=NODES,\n",
    "                hidden0_nonlinearity=nonlinearities.softmax,\n",
    "                hidden1_num_units=NODES,\n",
    "                hidden1_nonlinearity=nonlinearities.softmax,\n",
    "                output_num_units=1,\n",
    "                output_nonlinearity=nonlinearities.tanh,\n",
    "                update_learning_rate=0.1,\n",
    "                verbose=1,\n",
    "                max_epochs=100,\n",
    "                regression = True)\n",
    "\"\"\"\n",
    "param_grid = {'hidden0_num_units': [4, 17, 25],\n",
    "              'hidden0_nonlinearity': \n",
    "              [nonlinearities.sigmoid, nonlinearities.softmax],\n",
    "              'hidden1_num_units': [4, 17, 25],\n",
    "              'hidden1_nonlinearity': \n",
    "              [nonlinearities.sigmoid, nonlinearities.softmax],\n",
    "              'update_learning_rate': [0.01, 0.1, 0.5]}\n",
    "grid_search = GridSearchCV(net, param_grid, verbose=0)\n",
    "grid_search.fit(X_train, Y_train)\n",
    "\"\"\"\n",
    "net.fit(X_train, Y_train)"
   ]
  },
  {
   "cell_type": "code",
   "execution_count": 194,
   "metadata": {
    "collapsed": false
   },
   "outputs": [
    {
     "name": "stdout",
     "output_type": "stream",
     "text": [
      "0.756278366155\n"
     ]
    }
   ],
   "source": [
    "print(net.score(X_train, Y_train))"
   ]
  },
  {
   "cell_type": "code",
   "execution_count": 195,
   "metadata": {
    "collapsed": false
   },
   "outputs": [
    {
     "name": "stdout",
     "output_type": "stream",
     "text": [
      "0.69457963996\n"
     ]
    }
   ],
   "source": [
    "print(net.score(X_test, Y_test))"
   ]
  },
  {
   "cell_type": "code",
   "execution_count": null,
   "metadata": {
    "collapsed": true
   },
   "outputs": [],
   "source": []
  }
 ],
 "metadata": {
  "kernelspec": {
   "display_name": "Python 2",
   "language": "python",
   "name": "python2"
  },
  "language_info": {
   "codemirror_mode": {
    "name": "ipython",
    "version": 2
   },
   "file_extension": ".py",
   "mimetype": "text/x-python",
   "name": "python",
   "nbconvert_exporter": "python",
   "pygments_lexer": "ipython2",
   "version": "2.7.12"
  }
 },
 "nbformat": 4,
 "nbformat_minor": 0
}
