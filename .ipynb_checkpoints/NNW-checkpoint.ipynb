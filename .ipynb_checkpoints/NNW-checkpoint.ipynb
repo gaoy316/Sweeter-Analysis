{
 "cells": [
  {
   "cell_type": "code",
   "execution_count": 31,
   "metadata": {
    "collapsed": false
   },
   "outputs": [],
   "source": [
    "import numpy as np\n",
    "import pandas as pd\n",
    "import numpy as np\n",
    "from numpy import genfromtxt\n",
    "from sklearn.model_selection import train_test_split"
   ]
  },
  {
   "cell_type": "code",
   "execution_count": 32,
   "metadata": {
    "collapsed": false
   },
   "outputs": [],
   "source": [
    "from sklearn import preprocessing\n",
    "from lasagne import nonlinearities\n",
    "from lasagne.layers import DenseLayer\n",
    "from lasagne.layers import InputLayer\n",
    "from nolearn.lasagne import NeuralNet\n",
    "from sklearn.grid_search import GridSearchCV"
   ]
  },
  {
   "cell_type": "code",
   "execution_count": 33,
   "metadata": {
    "collapsed": false
   },
   "outputs": [],
   "source": [
    "# Load Data and Split Train&Test\n",
    "datapath = \"DATA_Clear.csv\"\n",
    "deliverData = genfromtxt(datapath,delimiter=\",\")"
   ]
  },
  {
   "cell_type": "code",
   "execution_count": 34,
   "metadata": {
    "collapsed": false
   },
   "outputs": [],
   "source": [
    "deliverData = preprocessing.scale(deliverData[1:,1:])"
   ]
  },
  {
   "cell_type": "code",
   "execution_count": 35,
   "metadata": {
    "collapsed": false
   },
   "outputs": [],
   "source": [
    "#Standardization Data\n",
    "X= deliverData[0:,:-1]\n",
    "Y = deliverData[0:,-1]"
   ]
  },
  {
   "cell_type": "code",
   "execution_count": 36,
   "metadata": {
    "collapsed": false
   },
   "outputs": [],
   "source": [
    "#Split test and train\n",
    "X_train, X_test, Y_train, Y_test = train_test_split(X, Y, test_size=0.2, random_state=316)"
   ]
  },
  {
   "cell_type": "code",
   "execution_count": 40,
   "metadata": {
    "collapsed": false
   },
   "outputs": [
    {
     "name": "stdout",
     "output_type": "stream",
     "text": [
      "# Neural Network with 211 learnable parameters\n",
      "\n",
      "## Layer information\n",
      "\n",
      "  #  name       size\n",
      "---  -------  ------\n",
      "  0  input         8\n",
      "  1  hidden0      10\n",
      "  2  hidden1      10\n",
      "  3  output        1\n",
      "\n",
      "  epoch    train loss    valid loss    train/val  dur\n",
      "-------  ------------  ------------  -----------  -----\n",
      "      1       \u001b[36m1.38832\u001b[0m       \u001b[32m0.39114\u001b[0m      3.54938  0.00s\n",
      "      2       \u001b[36m1.36272\u001b[0m       \u001b[32m0.34438\u001b[0m      3.95701  0.00s\n",
      "      3       \u001b[36m1.33321\u001b[0m       \u001b[32m0.29745\u001b[0m      4.48213  0.00s\n",
      "      4       \u001b[36m1.30527\u001b[0m       \u001b[32m0.25563\u001b[0m      5.10602  0.00s\n",
      "      5       \u001b[36m1.28223\u001b[0m       \u001b[32m0.22128\u001b[0m      5.79472  0.00s\n",
      "      6       \u001b[36m1.26505\u001b[0m       \u001b[32m0.19446\u001b[0m      6.50541  0.00s\n",
      "      7       \u001b[36m1.25312\u001b[0m       \u001b[32m0.17412\u001b[0m      7.19677  0.00s\n",
      "      8       \u001b[36m1.24524\u001b[0m       \u001b[32m0.15888\u001b[0m      7.83745  0.00s\n",
      "      9       \u001b[36m1.24019\u001b[0m       \u001b[32m0.14748\u001b[0m      8.40936  0.00s\n",
      "     10       \u001b[36m1.23703\u001b[0m       \u001b[32m0.13890\u001b[0m      8.90623  0.00s\n",
      "     11       \u001b[36m1.23509\u001b[0m       \u001b[32m0.13238\u001b[0m      9.33002  0.00s\n",
      "     12       \u001b[36m1.23390\u001b[0m       \u001b[32m0.12737\u001b[0m      9.68727  0.00s\n",
      "     13       \u001b[36m1.23319\u001b[0m       \u001b[32m0.12349\u001b[0m      9.98636  0.00s\n",
      "     14       \u001b[36m1.23278\u001b[0m       \u001b[32m0.12044\u001b[0m     10.23589  0.00s\n",
      "     15       \u001b[36m1.23254\u001b[0m       \u001b[32m0.11802\u001b[0m     10.44380  0.00s\n",
      "     16       \u001b[36m1.23240\u001b[0m       \u001b[32m0.11608\u001b[0m     10.61700  0.00s\n",
      "     17       \u001b[36m1.23232\u001b[0m       \u001b[32m0.11451\u001b[0m     10.76134  0.00s\n",
      "     18       \u001b[36m1.23228\u001b[0m       \u001b[32m0.11324\u001b[0m     10.88167  0.00s\n",
      "     19       \u001b[36m1.23225\u001b[0m       \u001b[32m0.11221\u001b[0m     10.98196  0.00s\n",
      "     20       \u001b[36m1.23222\u001b[0m       \u001b[32m0.11136\u001b[0m     11.06546  0.00s\n",
      "     21       \u001b[36m1.23219\u001b[0m       \u001b[32m0.11066\u001b[0m     11.13481  0.00s\n",
      "     22       \u001b[36m1.23216\u001b[0m       \u001b[32m0.11009\u001b[0m     11.19214  0.00s\n",
      "     23       \u001b[36m1.23211\u001b[0m       \u001b[32m0.10963\u001b[0m     11.23923  0.00s\n",
      "     24       \u001b[36m1.23205\u001b[0m       \u001b[32m0.10925\u001b[0m     11.27749  0.00s\n",
      "     25       \u001b[36m1.23197\u001b[0m       \u001b[32m0.10895\u001b[0m     11.30809  0.00s\n",
      "     26       \u001b[36m1.23188\u001b[0m       \u001b[32m0.10871\u001b[0m     11.33201  0.00s\n",
      "     27       \u001b[36m1.23178\u001b[0m       \u001b[32m0.10853\u001b[0m     11.35004  0.00s\n",
      "     28       \u001b[36m1.23167\u001b[0m       \u001b[32m0.10839\u001b[0m     11.36282  0.00s\n",
      "     29       \u001b[36m1.23154\u001b[0m       \u001b[32m0.10831\u001b[0m     11.37090  0.00s\n",
      "     30       \u001b[36m1.23139\u001b[0m       \u001b[32m0.10826\u001b[0m     11.37472  0.00s\n",
      "     31       \u001b[36m1.23123\u001b[0m       \u001b[32m0.10824\u001b[0m     11.37466  0.00s\n",
      "     32       \u001b[36m1.23106\u001b[0m       0.10826     11.37101  0.00s\n",
      "     33       \u001b[36m1.23087\u001b[0m       0.10831     11.36401  0.00s\n",
      "     34       \u001b[36m1.23067\u001b[0m       0.10839     11.35388  0.00s\n",
      "     35       \u001b[36m1.23045\u001b[0m       0.10850     11.34076  0.00s\n",
      "     36       \u001b[36m1.23021\u001b[0m       0.10863     11.32478  0.00s\n",
      "     37       \u001b[36m1.22996\u001b[0m       0.10879     11.30603  0.00s\n",
      "     38       \u001b[36m1.22969\u001b[0m       0.10897     11.28457  0.00s\n",
      "     39       \u001b[36m1.22940\u001b[0m       0.10918     11.26045  0.00s\n",
      "     40       \u001b[36m1.22910\u001b[0m       0.10941     11.23368  0.00s\n",
      "     41       \u001b[36m1.22877\u001b[0m       0.10967     11.20424  0.00s\n",
      "     42       \u001b[36m1.22842\u001b[0m       0.10995     11.17213  0.00s\n",
      "     43       \u001b[36m1.22805\u001b[0m       0.11026     11.13729  0.00s\n",
      "     44       \u001b[36m1.22765\u001b[0m       0.11060     11.09967  0.00s\n",
      "     45       \u001b[36m1.22723\u001b[0m       0.11097     11.05918  0.00s\n",
      "     46       \u001b[36m1.22679\u001b[0m       0.11137     11.01574  0.00s\n",
      "     47       \u001b[36m1.22631\u001b[0m       0.11180     10.96922  0.00s\n",
      "     48       \u001b[36m1.22581\u001b[0m       0.11226     10.91951  0.00s\n",
      "     49       \u001b[36m1.22527\u001b[0m       0.11276     10.86645  0.00s\n",
      "     50       \u001b[36m1.22470\u001b[0m       0.11329     10.80990  0.00s\n",
      "     51       \u001b[36m1.22409\u001b[0m       0.11387     10.74968  0.00s\n",
      "     52       \u001b[36m1.22344\u001b[0m       0.11449     10.68560  0.00s\n",
      "     53       \u001b[36m1.22274\u001b[0m       0.11516     10.61747  0.00s\n",
      "     54       \u001b[36m1.22201\u001b[0m       0.11588     10.54506  0.00s\n",
      "     55       \u001b[36m1.22122\u001b[0m       0.11666     10.46817  0.00s\n",
      "     56       \u001b[36m1.22038\u001b[0m       0.11750     10.38655  0.00s\n",
      "     57       \u001b[36m1.21949\u001b[0m       0.11840     10.29999  0.00s\n",
      "     58       \u001b[36m1.21853\u001b[0m       0.11937     10.20823  0.00s\n",
      "     59       \u001b[36m1.21752\u001b[0m       0.12041     10.11107  0.00s\n",
      "     60       \u001b[36m1.21643\u001b[0m       0.12154     10.00828  0.00s\n",
      "     61       \u001b[36m1.21528\u001b[0m       0.12276      9.89966  0.00s\n",
      "     62       \u001b[36m1.21405\u001b[0m       0.12407      9.78506  0.00s\n",
      "     63       \u001b[36m1.21274\u001b[0m       0.12549      9.66436  0.00s\n",
      "     64       \u001b[36m1.21135\u001b[0m       0.12701      9.53748  0.00s\n",
      "     65       \u001b[36m1.20988\u001b[0m       0.12865      9.40446  0.00s\n",
      "     66       \u001b[36m1.20831\u001b[0m       0.13041      9.26538  0.00s\n",
      "     67       \u001b[36m1.20665\u001b[0m       0.13230      9.12047  0.00s\n",
      "     68       \u001b[36m1.20490\u001b[0m       0.13432      8.97006  0.00s\n",
      "     69       \u001b[36m1.20305\u001b[0m       0.13648      8.81464  0.00s\n",
      "     70       \u001b[36m1.20111\u001b[0m       0.13878      8.65487  0.00s\n",
      "     71       \u001b[36m1.19906\u001b[0m       0.14121      8.49156  0.00s\n",
      "     72       \u001b[36m1.19692\u001b[0m       0.14376      8.32571  0.00s\n",
      "     73       \u001b[36m1.19467\u001b[0m       0.14643      8.15849  0.00s\n",
      "     74       \u001b[36m1.19232\u001b[0m       0.14920      7.99121  0.00s\n",
      "     75       \u001b[36m1.18987\u001b[0m       0.15205      7.82533  0.00s\n",
      "     76       \u001b[36m1.18732\u001b[0m       0.15495      7.66236  0.00s\n",
      "     77       \u001b[36m1.18465\u001b[0m       0.15787      7.50388  0.00s\n",
      "     78       \u001b[36m1.18187\u001b[0m       0.16077      7.35143  0.00s\n",
      "     79       \u001b[36m1.17897\u001b[0m       0.16360      7.20645  0.00s\n",
      "     80       \u001b[36m1.17592\u001b[0m       0.16632      7.07027  0.00s\n",
      "     81       \u001b[36m1.17274\u001b[0m       0.16889      6.94398  0.00s\n",
      "     82       \u001b[36m1.16938\u001b[0m       0.17125      6.82843  0.00s\n",
      "     83       \u001b[36m1.16585\u001b[0m       0.17338      6.72419  0.00s\n",
      "     84       \u001b[36m1.16212\u001b[0m       0.17524      6.63152  0.00s\n",
      "     85       \u001b[36m1.15818\u001b[0m       0.17681      6.55035  0.00s\n",
      "     86       \u001b[36m1.15402\u001b[0m       0.17808      6.48033  0.00s\n",
      "     87       \u001b[36m1.14963\u001b[0m       0.17905      6.42082  0.00s\n",
      "     88       \u001b[36m1.14500\u001b[0m       0.17972      6.37094  0.00s\n",
      "     89       \u001b[36m1.14012\u001b[0m       0.18013      6.32961  0.00s\n",
      "     90       \u001b[36m1.13501\u001b[0m       0.18029      6.29559  0.00s\n",
      "     91       \u001b[36m1.12967\u001b[0m       0.18024      6.26757  0.00s\n",
      "     92       \u001b[36m1.12410\u001b[0m       0.18002      6.24418  0.00s\n",
      "     93       \u001b[36m1.11833\u001b[0m       0.17968      6.22409  0.00s\n",
      "     94       \u001b[36m1.11235\u001b[0m       0.17924      6.20603  0.00s\n",
      "     95       \u001b[36m1.10620\u001b[0m       0.17874      6.18889  0.00s\n",
      "     96       \u001b[36m1.09990\u001b[0m       0.17822      6.17169  0.00s\n",
      "     97       \u001b[36m1.09345\u001b[0m       0.17769      6.15367  0.00s\n",
      "     98       \u001b[36m1.08689\u001b[0m       0.17718      6.13426  0.00s\n",
      "     99       \u001b[36m1.08024\u001b[0m       0.17671      6.11313  0.00s\n",
      "    100       \u001b[36m1.07353\u001b[0m       0.17627      6.09015  0.00s\n"
     ]
    },
    {
     "data": {
      "text/plain": [
       "NeuralNet(X_tensor_type=None,\n",
       "     batch_iterator_test=<nolearn.lasagne.base.BatchIterator object at 0x116a50450>,\n",
       "     batch_iterator_train=<nolearn.lasagne.base.BatchIterator object at 0x116a50350>,\n",
       "     custom_scores=None,\n",
       "     hidden0_nonlinearity=<function sigmoid at 0x11669acf8>,\n",
       "     hidden0_num_units=10,\n",
       "     hidden1_nonlinearity=<function sigmoid at 0x11669acf8>,\n",
       "     hidden1_num_units=10, input_shape=(None, 8),\n",
       "     layers=[('input', <class 'lasagne.layers.input.InputLayer'>), ('hidden0', <class 'lasagne.layers.dense.DenseLayer'>), ('hidden1', <class 'lasagne.layers.dense.DenseLayer'>), ('output', <class 'lasagne.layers.dense.DenseLayer'>)],\n",
       "     loss=None, max_epochs=100, more_params={},\n",
       "     objective=<function objective at 0x116a51f50>,\n",
       "     objective_loss_function=<function squared_error at 0x1169362a8>,\n",
       "     on_batch_finished=[],\n",
       "     on_epoch_finished=[<nolearn.lasagne.handlers.PrintLog instance at 0x11b6a0ef0>],\n",
       "     on_training_finished=[],\n",
       "     on_training_started=[<nolearn.lasagne.handlers.PrintLayerInfo instance at 0x11b6a0ea8>],\n",
       "     output_nonlinearity=<function sigmoid at 0x11669acf8>,\n",
       "     output_num_units=1, regression=True,\n",
       "     train_split=<nolearn.lasagne.base.TrainSplit object at 0x116a50490>,\n",
       "     update=<function nesterov_momentum at 0x11693e320>,\n",
       "     update_learning_rate=0.1, use_label_encoder=False, verbose=1,\n",
       "     y_tensor_type=TensorType(float64, matrix))"
      ]
     },
     "execution_count": 40,
     "metadata": {},
     "output_type": "execute_result"
    }
   ],
   "source": [
    "# Create classification model\n",
    "NODES = 10\n",
    "net = NeuralNet(layers=[('input', InputLayer),\n",
    "                        ('hidden0', DenseLayer),\n",
    "                        ('hidden1', DenseLayer),\n",
    "                        ('output', DenseLayer)],\n",
    "                input_shape=(None, X_train.shape[1]),\n",
    "                hidden0_num_units=NODES,\n",
    "                hidden0_nonlinearity=nonlinearities.sigmoid,\n",
    "                hidden1_num_units=NODES,\n",
    "                hidden1_nonlinearity=nonlinearities.sigmoid,\n",
    "                output_num_units=1,\n",
    "                output_nonlinearity=nonlinearities.sigmoid,\n",
    "                update_learning_rate=0.1,\n",
    "                verbose=1,\n",
    "                max_epochs=100,\n",
    "                regression = True)\n",
    "\n",
    "net.fit(X_train, Y_train)"
   ]
  },
  {
   "cell_type": "code",
   "execution_count": 41,
   "metadata": {
    "collapsed": false
   },
   "outputs": [
    {
     "name": "stdout",
     "output_type": "stream",
     "text": [
      "0.886435513227\n"
     ]
    }
   ],
   "source": [
    "print(net.score(X_train, Y_train))"
   ]
  },
  {
   "cell_type": "code",
   "execution_count": 42,
   "metadata": {
    "collapsed": false
   },
   "outputs": [
    {
     "name": "stdout",
     "output_type": "stream",
     "text": [
      "0.842708418433\n"
     ]
    }
   ],
   "source": [
    "print(net.score(X_test, Y_test))"
   ]
  },
  {
   "cell_type": "code",
   "execution_count": null,
   "metadata": {
    "collapsed": true
   },
   "outputs": [],
   "source": []
  }
 ],
 "metadata": {
  "kernelspec": {
   "display_name": "Python 2",
   "language": "python",
   "name": "python2"
  },
  "language_info": {
   "codemirror_mode": {
    "name": "ipython",
    "version": 2
   },
   "file_extension": ".py",
   "mimetype": "text/x-python",
   "name": "python",
   "nbconvert_exporter": "python",
   "pygments_lexer": "ipython2",
   "version": "2.7.12"
  }
 },
 "nbformat": 4,
 "nbformat_minor": 0
}
